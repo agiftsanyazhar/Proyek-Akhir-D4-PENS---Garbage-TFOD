{
 "cells": [
  {
   "cell_type": "code",
   "execution_count": 1,
   "metadata": {},
   "outputs": [],
   "source": [
    "import os\n",
    "import cv2"
   ]
  },
  {
   "cell_type": "code",
   "execution_count": 2,
   "metadata": {},
   "outputs": [
    {
     "name": "stdout",
     "output_type": "stream",
     "text": [
      "The image file with the smallest resolution is data/images\\anorganik\\anorganik_62.jpg with a resolution of 171840 and dimensions (480, 358).\n"
     ]
    }
   ],
   "source": [
    "# Define the base directory containing subdirectories for each class\n",
    "base_dir = \"data/images\"\n",
    "\n",
    "# List all subdirectories (each representing a class)\n",
    "class_directories = [\n",
    "    os.path.join(base_dir, d)\n",
    "    for d in os.listdir(base_dir)\n",
    "    if os.path.isdir(os.path.join(base_dir, d))\n",
    "]\n",
    "\n",
    "# Initialize minimum resolution to a large value\n",
    "min_resolution = float(\"inf\")\n",
    "min_resolution_image = \"\"\n",
    "min_resolution_dims = (0, 0)  # (height, width)\n",
    "\n",
    "# Iterate over each class directory\n",
    "for class_dir in class_directories:\n",
    "    # Get a list of all image file paths in the current class directory\n",
    "    image_files = [\n",
    "        os.path.join(class_dir, f)\n",
    "        for f in os.listdir(class_dir)\n",
    "        if os.path.isfile(os.path.join(class_dir, f))\n",
    "    ]\n",
    "\n",
    "    # Iterate over each image file\n",
    "    for image_file in image_files:\n",
    "        # Load the image using OpenCV\n",
    "        img = cv2.imread(image_file)\n",
    "\n",
    "        # Calculate the resolution of the image\n",
    "        resolution = img.shape[0] * img.shape[1]  # height * width\n",
    "\n",
    "        # If the resolution of the current image is smaller than the current minimum,\n",
    "        # update the minimum resolution and the corresponding image file\n",
    "        if resolution < min_resolution:\n",
    "            min_resolution = resolution\n",
    "            min_resolution_image = image_file\n",
    "            min_resolution_dims = img.shape[:2]  # (height, width)\n",
    "\n",
    "# Print the image file with the smallest resolution, its resolution, and its dimensions\n",
    "print(\n",
    "    f\"The image file with the smallest resolution is {min_resolution_image} with a resolution of {min_resolution} and dimensions {min_resolution_dims}.\"\n",
    ")"
   ]
  }
 ],
 "metadata": {
  "kernelspec": {
   "display_name": ".venv",
   "language": "python",
   "name": "python3"
  },
  "language_info": {
   "codemirror_mode": {
    "name": "ipython",
    "version": 3
   },
   "file_extension": ".py",
   "mimetype": "text/x-python",
   "name": "python",
   "nbconvert_exporter": "python",
   "pygments_lexer": "ipython3",
   "version": "3.10.11"
  },
  "orig_nbformat": 4
 },
 "nbformat": 4,
 "nbformat_minor": 2
}
