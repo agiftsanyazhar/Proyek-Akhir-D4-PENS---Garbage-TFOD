{
 "cells": [
  {
   "cell_type": "code",
   "execution_count": 6,
   "metadata": {},
   "outputs": [],
   "source": [
    "from PIL import Image\n",
    "import os"
   ]
  },
  {
   "cell_type": "code",
   "execution_count": 15,
   "metadata": {},
   "outputs": [
    {
     "name": "stdout",
     "output_type": "stream",
     "text": [
      "Resized image tong_sampah_0.jpg and saved as JPG in the output directory.\n",
      "Resized image tong_sampah_1.jpg and saved as JPG in the output directory.\n",
      "Resized image tong_sampah_10.jpg and saved as JPG in the output directory.\n",
      "Resized image tong_sampah_11.jpg and saved as JPG in the output directory.\n",
      "Resized image tong_sampah_12.jpg and saved as JPG in the output directory.\n",
      "Resized image tong_sampah_13.jpg and saved as JPG in the output directory.\n",
      "Resized image tong_sampah_14.jpg and saved as JPG in the output directory.\n",
      "Resized image tong_sampah_15.jpg and saved as JPG in the output directory.\n",
      "Resized image tong_sampah_16.jpg and saved as JPG in the output directory.\n",
      "Resized image tong_sampah_17.jpg and saved as JPG in the output directory.\n",
      "Resized image tong_sampah_18.jpg and saved as JPG in the output directory.\n",
      "Resized image tong_sampah_19.jpg and saved as JPG in the output directory.\n",
      "Resized image tong_sampah_2.jpg and saved as JPG in the output directory.\n",
      "Resized image tong_sampah_20.jpg and saved as JPG in the output directory.\n",
      "Resized image tong_sampah_21.jpg and saved as JPG in the output directory.\n",
      "Resized image tong_sampah_22.jpg and saved as JPG in the output directory.\n",
      "Resized image tong_sampah_23.jpg and saved as JPG in the output directory.\n",
      "Resized image tong_sampah_24.jpg and saved as JPG in the output directory.\n",
      "Resized image tong_sampah_25.jpg and saved as JPG in the output directory.\n",
      "Resized image tong_sampah_26.jpg and saved as JPG in the output directory.\n",
      "Resized image tong_sampah_27.jpg and saved as JPG in the output directory.\n",
      "Resized image tong_sampah_28.jpg and saved as JPG in the output directory.\n",
      "Resized image tong_sampah_29.jpg and saved as JPG in the output directory.\n",
      "Resized image tong_sampah_3.jpg and saved as JPG in the output directory.\n",
      "Resized image tong_sampah_30.jpg and saved as JPG in the output directory.\n",
      "Resized image tong_sampah_31.jpg and saved as JPG in the output directory.\n",
      "Resized image tong_sampah_32.jpg and saved as JPG in the output directory.\n",
      "Resized image tong_sampah_33.jpg and saved as JPG in the output directory.\n",
      "Resized image tong_sampah_34.jpg and saved as JPG in the output directory.\n",
      "Resized image tong_sampah_35.jpg and saved as JPG in the output directory.\n",
      "Resized image tong_sampah_36.jpg and saved as JPG in the output directory.\n",
      "Resized image tong_sampah_37.jpg and saved as JPG in the output directory.\n",
      "Resized image tong_sampah_38.jpg and saved as JPG in the output directory.\n",
      "Resized image tong_sampah_39.jpg and saved as JPG in the output directory.\n",
      "Resized image tong_sampah_4.jpg and saved as JPG in the output directory.\n",
      "Resized image tong_sampah_40.jpg and saved as JPG in the output directory.\n",
      "Resized image tong_sampah_41.jpg and saved as JPG in the output directory.\n",
      "Resized image tong_sampah_42.jpg and saved as JPG in the output directory.\n",
      "Resized image tong_sampah_43.jpg and saved as JPG in the output directory.\n",
      "Resized image tong_sampah_44.jpg and saved as JPG in the output directory.\n",
      "Resized image tong_sampah_45.jpg and saved as JPG in the output directory.\n",
      "Resized image tong_sampah_46.jpg and saved as JPG in the output directory.\n",
      "Resized image tong_sampah_47.jpg and saved as JPG in the output directory.\n",
      "Resized image tong_sampah_48.jpg and saved as JPG in the output directory.\n",
      "Resized image tong_sampah_49.jpg and saved as JPG in the output directory.\n",
      "Resized image tong_sampah_5.jpg and saved as JPG in the output directory.\n",
      "Resized image tong_sampah_50.jpg and saved as JPG in the output directory.\n",
      "Resized image tong_sampah_51.jpg and saved as JPG in the output directory.\n",
      "Resized image tong_sampah_52.jpg and saved as JPG in the output directory.\n",
      "Resized image tong_sampah_53.jpg and saved as JPG in the output directory.\n",
      "Resized image tong_sampah_54.jpg and saved as JPG in the output directory.\n",
      "Resized image tong_sampah_55.jpg and saved as JPG in the output directory.\n",
      "Resized image tong_sampah_56.jpg and saved as JPG in the output directory.\n",
      "Resized image tong_sampah_57.jpg and saved as JPG in the output directory.\n",
      "Resized image tong_sampah_58.jpg and saved as JPG in the output directory.\n",
      "Resized image tong_sampah_6.jpg and saved as JPG in the output directory.\n",
      "Resized image tong_sampah_7.jpg and saved as JPG in the output directory.\n",
      "Resized image tong_sampah_8.jpg and saved as JPG in the output directory.\n",
      "Resized image tong_sampah_9.jpg and saved as JPG in the output directory.\n"
     ]
    }
   ],
   "source": [
    "def resize_images(input_directory, output_directory):\n",
    "    for filename in os.listdir(input_directory):\n",
    "        if filename.endswith(\".jpg\") or filename.endswith(\".png\"):\n",
    "            img = Image.open(os.path.join(input_directory, filename))\n",
    "            img.thumbnail((640, 480))\n",
    "            # Save the file in JPG format in the output directory\n",
    "            img.save(\n",
    "                os.path.join(output_directory, filename.rsplit(\".\", 1)[0] + \".jpg\"),\n",
    "                \"JPEG\",\n",
    "            )\n",
    "            print(f\"Resized image {filename} and saved as JPG in the output directory.\")\n",
    "        else:\n",
    "            continue\n",
    "\n",
    "\n",
    "# Replace 'path_to_your_images' with the path to your image directory. Replace 'path_to_output' with the path to your output directory\n",
    "# resize_images(\"../Phone Dataset/Garbage/Raw\", \"../Phone Dataset/Garbage/Resized\")\n",
    "resize_images(\n",
    "    \"data/images/tong_sampah\",\n",
    "    \"data/images/tong_sampah - resized\",\n",
    ")"
   ]
  }
 ],
 "metadata": {
  "kernelspec": {
   "display_name": ".venv",
   "language": "python",
   "name": "python3"
  },
  "language_info": {
   "codemirror_mode": {
    "name": "ipython",
    "version": 3
   },
   "file_extension": ".py",
   "mimetype": "text/x-python",
   "name": "python",
   "nbconvert_exporter": "python",
   "pygments_lexer": "ipython3",
   "version": "3.10.11"
  },
  "orig_nbformat": 4
 },
 "nbformat": 4,
 "nbformat_minor": 2
}
